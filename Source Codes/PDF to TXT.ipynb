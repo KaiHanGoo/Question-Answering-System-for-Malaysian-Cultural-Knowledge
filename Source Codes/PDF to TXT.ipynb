{
 "cells": [
  {
   "cell_type": "code",
   "execution_count": 3,
   "id": "ef34b29c-abf8-4c9a-a289-504f444b4d6e",
   "metadata": {},
   "outputs": [
    {
     "name": "stdout",
     "output_type": "stream",
     "text": [
      "Collecting PyMuPDF\n",
      "  Downloading pymupdf-1.25.5-cp39-abi3-win_amd64.whl.metadata (3.4 kB)\n",
      "Downloading pymupdf-1.25.5-cp39-abi3-win_amd64.whl (16.6 MB)\n",
      "   ---------------------------------------- 0.0/16.6 MB ? eta -:--:--\n",
      "   ---------------------------------------- 0.0/16.6 MB ? eta -:--:--\n",
      "   ---------------------------------------- 0.0/16.6 MB ? eta -:--:--\n",
      "   ---------------------------------------- 0.0/16.6 MB ? eta -:--:--\n",
      "   ---------------------------------------- 0.0/16.6 MB 393.8 kB/s eta 0:00:42\n",
      "    --------------------------------------- 0.2/16.6 MB 1.8 MB/s eta 0:00:10\n",
      "   ---- ----------------------------------- 1.7/16.6 MB 9.9 MB/s eta 0:00:02\n",
      "   ---------- ----------------------------- 4.5/16.6 MB 19.0 MB/s eta 0:00:01\n",
      "   ---------------- ----------------------- 6.7/16.6 MB 23.8 MB/s eta 0:00:01\n",
      "   ----------------------- ---------------- 9.6/16.6 MB 30.6 MB/s eta 0:00:01\n",
      "   ---------------------------- ----------- 12.0/16.6 MB 59.5 MB/s eta 0:00:01\n",
      "   ------------------------------- -------- 13.3/16.6 MB 54.4 MB/s eta 0:00:01\n",
      "   ------------------------------------ --- 15.1/16.6 MB 46.7 MB/s eta 0:00:01\n",
      "   ---------------------------------------  16.6/16.6 MB 46.9 MB/s eta 0:00:01\n",
      "   ---------------------------------------  16.6/16.6 MB 46.9 MB/s eta 0:00:01\n",
      "   ---------------------------------------- 16.6/16.6 MB 34.5 MB/s eta 0:00:00\n",
      "Installing collected packages: PyMuPDF\n",
      "Successfully installed PyMuPDF-1.25.5\n"
     ]
    }
   ],
   "source": [
    "!pip install PyMuPDF"
   ]
  },
  {
   "cell_type": "code",
   "execution_count": 4,
   "id": "ba44f9b9-189b-408a-8203-d9574414bbea",
   "metadata": {},
   "outputs": [
    {
     "name": "stdout",
     "output_type": "stream",
     "text": [
      "🔄 Converting: Data/pdf/BAHASA ETNIK IBAN DI SARAWAK.pdf\n",
      "✅ Saved: Data/txt/BAHASA ETNIK IBAN DI SARAWAK.txt\n",
      "🔄 Converting: Data/pdf/Christmas India.pdf\n",
      "✅ Saved: Data/txt/Christmas India.txt\n",
      "🔄 Converting: Data/pdf/Ugadi - Wikipedia.pdf\n",
      "✅ Saved: Data/txt/Ugadi - Wikipedia.txt\n",
      "🔄 Converting: Data/pdf/Vaikuntha Ekadashi - Wikipedia.pdf\n",
      "✅ Saved: Data/txt/Vaikuntha Ekadashi - Wikipedia.txt\n"
     ]
    }
   ],
   "source": [
    "import fitz  # PyMuPDF\n",
    "import os\n",
    "import re\n",
    "\n",
    "def extract_text_from_pdf(pdf_path):\n",
    "    doc = fitz.open(pdf_path)\n",
    "    text = ''\n",
    "    for page in doc:\n",
    "        text += page.get_text()\n",
    "    return text\n",
    "\n",
    "def clean_text(text):\n",
    "    # Normalize whitespace, remove unwanted line breaks\n",
    "    text = re.sub(r'\\s+', ' ', text)\n",
    "    return text.strip()\n",
    "\n",
    "def convert_pdfs_to_txt(input_folder='Data/pdf/', output_folder='Data/txt/'):\n",
    "    os.makedirs(output_folder, exist_ok=True)\n",
    "    \n",
    "    for filename in os.listdir(input_folder):\n",
    "        if filename.lower().endswith('.pdf'):\n",
    "            pdf_path = os.path.join(input_folder, filename)\n",
    "            print(f\"🔄 Converting: {pdf_path}\")\n",
    "            \n",
    "            try:\n",
    "                raw_text = extract_text_from_pdf(pdf_path)\n",
    "                cleaned_text = clean_text(raw_text)\n",
    "\n",
    "                txt_filename = os.path.splitext(filename)[0] + '.txt'\n",
    "                txt_path = os.path.join(output_folder, txt_filename)\n",
    "                \n",
    "                with open(txt_path, 'w', encoding='utf-8') as f:\n",
    "                    f.write(cleaned_text)\n",
    "\n",
    "                print(f\"✅ Saved: {txt_path}\")\n",
    "            except Exception as e:\n",
    "                print(f\"[Error] Failed to convert {filename}: {e}\")\n",
    "\n",
    "# Run the script\n",
    "convert_pdfs_to_txt()"
   ]
  },
  {
   "cell_type": "code",
   "execution_count": null,
   "id": "113b2c6e-bf41-4595-985f-86ab23c9fbbf",
   "metadata": {},
   "outputs": [],
   "source": []
  }
 ],
 "metadata": {
  "kernelspec": {
   "display_name": "Python 3 (ipykernel)",
   "language": "python",
   "name": "python3"
  },
  "language_info": {
   "codemirror_mode": {
    "name": "ipython",
    "version": 3
   },
   "file_extension": ".py",
   "mimetype": "text/x-python",
   "name": "python",
   "nbconvert_exporter": "python",
   "pygments_lexer": "ipython3",
   "version": "3.12.3"
  }
 },
 "nbformat": 4,
 "nbformat_minor": 5
}
