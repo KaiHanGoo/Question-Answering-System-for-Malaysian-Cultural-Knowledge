{
 "cells": [
  {
   "cell_type": "code",
   "execution_count": 3,
   "id": "ae7c2e22-b398-4519-ac26-ec95af911576",
   "metadata": {},
   "outputs": [
    {
     "name": "stdout",
     "output_type": "stream",
     "text": [
      "Collecting fpdf\n",
      "  Downloading fpdf-1.7.2.tar.gz (39 kB)\n",
      "  Preparing metadata (setup.py): started\n",
      "  Preparing metadata (setup.py): finished with status 'done'\n",
      "Building wheels for collected packages: fpdf\n",
      "  Building wheel for fpdf (setup.py): started\n",
      "  Building wheel for fpdf (setup.py): finished with status 'done'\n",
      "  Created wheel for fpdf: filename=fpdf-1.7.2-py2.py3-none-any.whl size=40713 sha256=507b04fa16efa08389e86634d519547fe6948ddd73298b33e917dacb68b6eff1\n",
      "  Stored in directory: c:\\users\\user\\appdata\\local\\pip\\cache\\wheels\\6e\\62\\11\\dc73d78e40a218ad52e7451f30166e94491be013a7850b5d75\n",
      "Successfully built fpdf\n",
      "Installing collected packages: fpdf\n",
      "Successfully installed fpdf-1.7.2\n"
     ]
    }
   ],
   "source": [
    "!pip install fpdf"
   ]
  },
  {
   "cell_type": "code",
   "execution_count": 4,
   "id": "b50d9187-67d1-4e3e-9d72-476890e7e9bb",
   "metadata": {},
   "outputs": [],
   "source": [
    "from fpdf import FPDF\n",
    "\n",
    "def txt_to_pdf(txt_file, pdf_file):\n",
    "    pdf = FPDF()\n",
    "    pdf.add_page()\n",
    "    pdf.set_auto_page_break(auto=True, margin=15)\n",
    "    pdf.set_font(\"Arial\", size=12)\n",
    "\n",
    "    with open(txt_file, 'r', encoding='utf-8') as file:\n",
    "        for line in file:\n",
    "            pdf.cell(0, 10, txt=line.strip(), ln=True)\n",
    "\n",
    "    pdf.output(pdf_file)\n",
    "\n",
    "if __name__ == \"__main__\":\n",
    "    txt_file = \"input.txt\"\n",
    "    pdf_file = \"output.pdf\"\n",
    "    txt_to_pdf(txt_file, pdf_file)"
   ]
  },
  {
   "cell_type": "code",
   "execution_count": null,
   "id": "a4ad2165-dd53-484c-a9a1-c256280ed4ab",
   "metadata": {},
   "outputs": [],
   "source": []
  }
 ],
 "metadata": {
  "kernelspec": {
   "display_name": "Python 3 (ipykernel)",
   "language": "python",
   "name": "python3"
  },
  "language_info": {
   "codemirror_mode": {
    "name": "ipython",
    "version": 3
   },
   "file_extension": ".py",
   "mimetype": "text/x-python",
   "name": "python",
   "nbconvert_exporter": "python",
   "pygments_lexer": "ipython3",
   "version": "3.12.3"
  }
 },
 "nbformat": 4,
 "nbformat_minor": 5
}
